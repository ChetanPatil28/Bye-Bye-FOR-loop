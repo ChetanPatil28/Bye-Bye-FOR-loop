{
 "cells": [
  {
   "cell_type": "code",
   "execution_count": 1,
   "metadata": {},
   "outputs": [],
   "source": [
    "import numpy as np\n",
    "import cv2\n",
    "from numpy.lib import stride_tricks\n",
    "import matplotlib.pyplot as plt"
   ]
  },
  {
   "cell_type": "code",
   "execution_count": 2,
   "metadata": {},
   "outputs": [
    {
     "name": "stdout",
     "output_type": "stream",
     "text": [
      "bytesize of each element  2\n"
     ]
    }
   ],
   "source": [
    "### here 16 stands for bits\n",
    "## say \"dtype= ___number\", then nuber of bytes each item will take is number/8\n",
    "## ie each item will occupy memory of 16/8=2 bytes.!! \n",
    "## eg dtype=float64, then item will take 8-bytes of memory.!\n",
    "\n",
    "############ NOTE BYTES WILL BE SAME IRRESPECTIVE IF ITS UINT OR INT OR FLOAT ###########\n",
    "\n",
    "# X = np.array([[1,2,3,4,5],[11,22,33,44,55],[111,222,333,444,555]], dtype='float16')\n",
    "X = np.array([[0,1,2],[3,4,5]], dtype='int16')\n",
    "print(\"bytesize of each element \",X.itemsize)"
   ]
  },
  {
   "cell_type": "code",
   "execution_count": 3,
   "metadata": {},
   "outputs": [
    {
     "name": "stdout",
     "output_type": "stream",
     "text": [
      "(6, 2)\n"
     ]
    }
   ],
   "source": [
    "# Numpy arrays are stored in a single contiguous (continuous) block of memory. \n",
    "# There are two key concepts relating to memory: dimensions and strides.\n",
    "# Strides are the number of bytes you need to step in each dimension when traversing the array.\n",
    "print(X.strides)\n",
    "\n",
    "#### AS U GO FURTHER U WILL KNOW WHAT IT SIGNIFYS.!!!"
   ]
  },
  {
   "cell_type": "code",
   "execution_count": null,
   "metadata": {},
   "outputs": [],
   "source": [
    "### now (6,2) actually tells u that :- \n",
    "## u need to skip 6 bytes to acess this array [3,4,5]\n",
    "## u need to skip 2 bytes to access the elements in [0,1,2]\n"
   ]
  },
  {
   "cell_type": "code",
   "execution_count": null,
   "metadata": {},
   "outputs": [],
   "source": [
    "s=np.random.randint(0,12,size=(8,19),dtype = np.uint8)\n",
    "print(s.strides)\n",
    "# if u want to access those 19-sized vectors u need to have stride 19\n",
    "# if u want to access an element in those 19-sized vector, the u have stride 1\n",
    "ss=np.random.randint(0,12,size=(8,19),dtype = np.uint64)\n",
    "print(ss.strides)\n",
    "# if u want to access those 19-sized vectors u need to have stride 19*8(each element occupys 8 bytes)\n",
    "# if u want to access an element in those 19-sized vector, the u have stride 8\n",
    "\n",
    "#### NOTE   # The stride in the last dimension is always equal to the itemsize.\n",
    "\n",
    "################# AS U CHANGE THE BYTE-SIZE OF AN ELEMENT, YOUR STRIDES GET MULTIPLYED BY THAT BYTE.\n",
    "\n",
    "## eg- For s, byte was 1 since bits were 8 .... For ss, byte is 8 since bits are 64..!\n",
    "## and respectively , strides got multiplyd by that BYTE since u change the BITS value.!! \n",
    "\n"
   ]
  },
  {
   "cell_type": "code",
   "execution_count": null,
   "metadata": {},
   "outputs": [],
   "source": [
    "qw=np.random.randint(0,25,size=(4,2,5),dtype=np.int8)\n",
    "\n",
    "## strides will be 10,5,1 here. if u have not understood how, then go back.!\n",
    "## there's a simple trick to actually find the strides without going into theory, \n",
    "## but its good to know the theory first and then use the trick.!!\n",
    "\n",
    "### if u want to know that trick (OR PATTERN), just keep on increasing dimensions \n",
    "## and print their strides, the pattern will be visible.!!!\n",
    "print(qw.strides)"
   ]
  },
  {
   "cell_type": "code",
   "execution_count": null,
   "metadata": {},
   "outputs": [],
   "source": [
    "big_arr=np.random.randint(0,25,size=(3,4,5,72),dtype=np.int64)\n",
    "## guess the strides ehre.!\n",
    "## 72*5*4, 72*5, 72, 1 if the bits are 8.\n",
    "## if bits are 64, then [ 72*5*4*8, 72*5*8, 72*8, 1*8 ] will be the strides.\n",
    "### VERIFYING ABOVE STATEMENT\n",
    "print(\"Calculated\",72*5*4*8,72*5*8,72*8,1*8,)\n",
    "print(\"numpy function\",big_arr.strides)"
   ]
  },
  {
   "cell_type": "code",
   "execution_count": 4,
   "metadata": {},
   "outputs": [],
   "source": [
    "### NOW COMES NUMPY.STRIDE_TRICKs. BE CAREFUL\n",
    "## TRY TO UNDERTAND MOST OF THIS, BCUZ ONCE U KNOW THIS BASICS, U CAN CODE CONV,MAXPOOLING, AND WHAT NOT ?? ####"
   ]
  },
  {
   "cell_type": "code",
   "execution_count": null,
   "metadata": {},
   "outputs": [],
   "source": [
    "### say u want ato perform a 10x10 convolution on an image without FOR loops\n",
    "size=10\n",
    "img=cv2.imread('dog.14.jpg',0)\n",
    "#img=cv2.resize(img,(500,1000))\n",
    "shape = (img.shape[0] - size + 1, img.shape[1] - size + 1, size, size)\n",
    "print('orig img shape',img.shape)\n",
    "print('Shape u want',shape)\n",
    "strides=img.strides*2\n",
    "print('The strides u lookig for',strides)\n",
    "\n",
    "patches = stride_tricks.as_strided(img, shape=shape, strides=strides)\n",
    "res_img =np.mean(patches,axis=(-1,-2))\n",
    "print(res_img.shape,res_img.dtype)\n",
    "cv2.imshow('Convolved image',res_img.astype(np.uint8))\n",
    "\n",
    "cv2.imshow('original_img',img)\n",
    "cv2.waitKey(0)\n",
    "cv2.destroyAllWindows()"
   ]
  },
  {
   "cell_type": "code",
   "execution_count": null,
   "metadata": {},
   "outputs": [],
   "source": [
    "###### PRACTISIZNG ON 1-D ARRAYS FIRST AND THEN MOVING TO 2-D ARRAYS\n",
    "\n",
    "##### NOW THIS IS JUST 1-D CONVOLUTION WHICH INCLUDES CHNGINF THE WINDOW SIZE AS WELL AS THE STRIDE LENGTH\n",
    "\n",
    "x=np.sin(np.arange(0,50,dtype=np.uint8))\n",
    "size=x.itemsize\n",
    "window=3\n",
    "stride=1\n",
    "new_len=1+(len(x)-window)//stride\n",
    "print(\"Shape u get based on stride and window \",new_len,window)\n",
    "print(x.shape)\n",
    "new_x = stride_tricks.as_strided(x,shape=(new_len,window),strides=(stride*size,1*size))\n",
    "#print(new_x)\n",
    "## if u want to really implement conv whose window is [1,1,1]/3 then just do, np.mean(new_x,axis=1)\n",
    "conv=np.mean(new_x,axis=1)\n",
    "plt.plot(x)\n",
    "plt.plot(conv)"
   ]
  },
  {
   "cell_type": "code",
   "execution_count": 5,
   "metadata": {},
   "outputs": [
    {
     "name": "stdout",
     "output_type": "stream",
     "text": [
      "img shape is  (4, 8)\n",
      "based on stride, u will get the shape (2, 4, 2, 2)\n",
      "Strides in img (32, 4)\n",
      "[[777 888]\n",
      " [ -7  -8]]\n",
      "[[777 888]\n",
      " [ -7  -8]]\n"
     ]
    }
   ],
   "source": [
    "##### THIS IS A SIMPLE MAXPOOLING EXAMPLE WITH 4X8 ARRAY.\n",
    "img=np.asarray([[1,2,3,4,5,6,7,8],\n",
    "                [11,22,33,44,55,66,77,88],\n",
    "                [111,222,333,444,555,666,777,888],\n",
    "                [-1,2,-3,-4,-5,-6,-7,-8]])#\n",
    "bite=img.itemsize\n",
    "print(\"img shape is \", img.shape)\n",
    "stride=2\n",
    "shape = (img.shape[0]//2, img.shape[1]//2, stride, stride)\n",
    "print('based on stride, u will get the shape',shape)\n",
    "print('Strides in img',img.strides)\n",
    "\n",
    "############ TRY CHANGINF THOSE NUMBERS IF U DONT UNDERSTAND.\n",
    "#### TWEAK THEM IN  A WAY THAT U WILL UNDERSTAND TO THE FULLEST........!!!!!!!!!!!\n",
    "max_pool=stride_tricks.as_strided(img,shape=shape,strides=(img.shape[-1]*2*bite,stride*bite,img.shape[-1]*bite,1*bite))\n",
    "\n",
    "print(max_pool[1,3])\n",
    "print(img[2:4,6:8])"
   ]
  },
  {
   "cell_type": "code",
   "execution_count": null,
   "metadata": {},
   "outputs": [],
   "source": [
    "### THIS IS MAX-POOLING ON ANY IMAGE BUT GRAYSCALE\n",
    "img=cv2.imread('dog.14.jpg',0)\n",
    "h,w=img.shape[:2]\n",
    "bite=img.itemsize\n",
    "print(\"img shape is \", h,w)\n",
    "stride=2\n",
    "shape = (img.shape[0]//2, img.shape[1]//2, stride, stride)\n",
    "print('based on stride, u will get the shape',shape)\n",
    "print('Strides in img',img.strides)\n",
    "max_pool=stride_tricks.as_strided(img,shape=shape,strides=(w*2*bite,stride*bite,w*bite,1*bite))\n",
    "cv2.imshow('re',np.max(max_pool,axis=(-1,-2)).astype(np.uint8))#\n",
    "cv2.waitKey(0)\n",
    "cv2.destroyAllWindows()"
   ]
  }
 ],
 "metadata": {
  "kernelspec": {
   "display_name": "Python 3",
   "language": "python",
   "name": "python3"
  },
  "language_info": {
   "codemirror_mode": {
    "name": "ipython",
    "version": 3
   },
   "file_extension": ".py",
   "mimetype": "text/x-python",
   "name": "python",
   "nbconvert_exporter": "python",
   "pygments_lexer": "ipython3",
   "version": "3.6.6"
  }
 },
 "nbformat": 4,
 "nbformat_minor": 2
}
